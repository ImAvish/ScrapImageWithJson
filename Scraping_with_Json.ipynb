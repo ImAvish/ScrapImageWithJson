{
  "nbformat": 4,
  "nbformat_minor": 0,
  "metadata": {
    "colab": {
      "name": "Scraping with Json.ipynb",
      "provenance": []
    },
    "kernelspec": {
      "name": "python3",
      "display_name": "Python 3"
    },
    "language_info": {
      "name": "python"
    }
  },
  "cells": [
    {
      "cell_type": "markdown",
      "metadata": {
        "id": "36dcb819"
      },
      "source": [
        "# Scraping with Json"
      ]
    },
    {
      "cell_type": "code",
      "execution_count": null,
      "metadata": {
        "id": "aa197f13"
      },
      "outputs": [],
      "source": [
        "from bs4 import BeautifulSoup\n",
        "import urllib.request\n",
        "import re\n",
        "import json\n",
        "import requests\n",
        "import os"
      ]
    },
    {
      "cell_type": "code",
      "source": [
        "html_page = urllib.request.urlopen(\"https://us.shein.com/SHEIN-X-BEEBA-Khari-Appliques-Flutter-Sleeve-Contrast-Mesh-Overlay-Dress-p-10489800-cat-1727.html\")\n",
        "soup = BeautifulSoup(html_page)\n",
        "pattern = re.compile(r'\\\"spu\":\"\\w+\"')\n",
        "script=soup.find('script',text=pattern)"
      ],
      "metadata": {
        "id": "jLLralmCtcnZ"
      },
      "execution_count": null,
      "outputs": []
    },
    {
      "cell_type": "code",
      "execution_count": null,
      "metadata": {
        "id": "c5ef02f5"
      },
      "outputs": [],
      "source": [
        "spu = re.findall(pattern,script.text)[0]\n",
        "clothesId=spu.split('\"')[3]\n",
        "clothesId"
      ]
    },
    {
      "cell_type": "code",
      "execution_count": null,
      "metadata": {
        "id": "3f41f60b"
      },
      "outputs": [],
      "source": [
        "pages=[]\n",
        "r2 = [rq.get(f\"https://us.shein.com/goods_detail_nsw/getCommentInfoByAbc?_lang=en&_ver=1.1.8&goods_id=&is_picture=&limit=3&offset={(i-1)*3}&page={i}&rule_id=recsrch_sort%3AA&shop_id=&size=&sort=&spu={clothesId}&tag_id=\") for i in range(20)]\n",
        "for j in r2:\n",
        "    soup2 = BeautifulSoup(j.content, \"html.parser\")\n",
        "    pages.append(soup2)\n",
        "pages"
      ]
    },
    {
      "cell_type": "code",
      "execution_count": null,
      "metadata": {
        "id": "68cbd4a6"
      },
      "outputs": [],
      "source": [
        "data=[]\n",
        "for page in pages:\n",
        "    p=json.loads(page.string)\n",
        "    data.append(p)\n",
        "data    "
      ]
    },
    {
      "cell_type": "code",
      "execution_count": null,
      "metadata": {
        "id": "900a8c53"
      },
      "outputs": [],
      "source": [
        "images=re.findall(r\"\\'member_image_original': '\\w+\\/\\w+\\w+\\/\\w+\\/\\w+\\/\\w+\\.jpg\",str(data))"
      ]
    },
    {
      "cell_type": "code",
      "execution_count": null,
      "metadata": {
        "id": "afece87d"
      },
      "outputs": [],
      "source": [
        "urlimages=[]\n",
        "for i in images:\n",
        "    urlimages.append(os.path.join(\"img.shein.com/\",i.split(\": '\")[1]))"
      ]
    },
    {
      "cell_type": "code",
      "execution_count": null,
      "metadata": {
        "id": "6843e489"
      },
      "outputs": [],
      "source": [
        "for url in urlimages:\n",
        "    r = requests.get('http://'+url)\n",
        "    filename=url.split('/')[5]\n",
        "    with open(os.path.join('testimshein',filename), 'wb') as f:\n",
        "        for chunk in r:\n",
        "            f.write(chunk)    "
      ]
    }
  ]
}